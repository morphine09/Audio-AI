{
 "cells": [
  {
   "cell_type": "code",
   "execution_count": 1,
   "id": "6145db31",
   "metadata": {},
   "outputs": [
    {
     "name": "stdout",
     "output_type": "stream",
     "text": [
      "Self-Attention Output:\n",
      " [[1.6604769 2.6604769]\n",
      " [2.3395231 3.3395231]]\n"
     ]
    }
   ],
   "source": [
    "import numpy as np\n",
    "\n",
    "def self_attention_simple(X, WQ, WK, WV):\n",
    "    \"\"\"\"\n",
    "    self-attention \n",
    "    X: Input matrix (n x d)\n",
    "    WQ: Query weights (d x d)\n",
    "    WK: Key weights (d x d)\n",
    "    WV: Value weights (d x d)\n",
    "    Returns: Attention output (n x d)\n",
    "    \"\"\"\n",
    "    #Compute Q, K, V in one step\n",
    "    Q = X @ WQ\n",
    "    K = X @ WK\n",
    "    V = X @ WV\n",
    "    \n",
    "    #Compute attention scores and apply softmax to convert into vectpr  of probabilities\n",
    "    d_k = Q.shape[1]\n",
    "    scores = (Q @ K.T) / np.sqrt(d_k) #dot product of query and key pair dividing by the dimension of key vectors\n",
    "    weights = np.exp(scores) / np.sum(np.exp(scores), axis=1, keepdims=True)\n",
    "    \n",
    "    #Compute weighted sum of values\n",
    "    return weights @ V\n",
    "\n",
    "#Example\n",
    "X = np.array([[1, 0], [0, 1]])\n",
    "WQ = np.array([[1, 0], [0, 1]])\n",
    "WK = np.array([[1, 0], [0, 1]])\n",
    "WV = np.array([[1, 2], [3, 4]])\n",
    "\n",
    "output = self_attention_simple(X, WQ, WK, WV)\n",
    "print(\"Self-Attention Output:\\n\", output)"
   ]
  },
  {
   "cell_type": "code",
   "execution_count": null,
   "id": "5b65cf09",
   "metadata": {},
   "outputs": [],
   "source": []
  }
 ],
 "metadata": {
  "kernelspec": {
   "display_name": "Python 3.5 (env)",
   "language": "python",
   "name": "py35_env"
  },
  "language_info": {
   "codemirror_mode": {
    "name": "ipython",
    "version": 3
   },
   "file_extension": ".py",
   "mimetype": "text/x-python",
   "name": "python",
   "nbconvert_exporter": "python",
   "pygments_lexer": "ipython3",
   "version": "3.10.9"
  }
 },
 "nbformat": 4,
 "nbformat_minor": 5
}

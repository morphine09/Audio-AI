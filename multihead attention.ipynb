{
 "cells": [
  {
   "cell_type": "code",
   "execution_count": null,
   "id": "cb5a222c",
   "metadata": {},
   "outputs": [],
   "source": []
  },
  {
   "cell_type": "code",
   "execution_count": 4,
   "id": "4222a591",
   "metadata": {},
   "outputs": [
    {
     "name": "stdout",
     "output_type": "stream",
     "text": [
      "Multi-head Attention Output:\n",
      " [[[0.66976155 0.33023845 0.33023845 0.66976155]\n",
      "  [0.33023845 0.66976155 0.66976155 0.33023845]]]\n"
     ]
    }
   ],
   "source": [
    "import numpy as np\n",
    "\n",
    "def split_heads(x, n_heads):\n",
    "    #Split the last dimension into multiple heads\n",
    "    batch_size, seq_len, d_model = x.shape\n",
    "    d_head = d_model // n_heads\n",
    "    #reordering the dimensions for parallel processing\n",
    "    return x.reshape(batch_size, seq_len, n_heads, d_head).transpose(0, 2, 1, 3)\n",
    "\n",
    "def combine_heads(x):\n",
    "    #Combine attention heads back to original shape\n",
    "    batch_size, n_heads, seq_len, d_head = x.shape\n",
    "    #combining the multiheads\n",
    "    return x.transpose(0, 2, 1, 3).reshape(batch_size, seq_len, n_heads * d_head)\n",
    "\n",
    "def multi_head_attention_simple(X, WQ, WK, WV, n_heads=2):\n",
    "    \"\"\"\n",
    "    Simplified multi-head attention\n",
    "    X: Input matrix (batch_size x seq_len x d_model)\n",
    "    WQ, WK, WV: Weight matrices (d_model x d_model)\n",
    "    n_heads: Number of attention heads\n",
    "    \"\"\"\n",
    "    #Compute Q, K, V\n",
    "    Q = X @ WQ\n",
    "    K = X @ WK\n",
    "    V = X @ WV\n",
    "    \n",
    "    #Split into multiple heads\n",
    "    Q_split = split_heads(Q, n_heads)\n",
    "    K_split = split_heads(K, n_heads)\n",
    "    V_split = split_heads(V, n_heads)\n",
    "    \n",
    "    #Compute the scaled dot product attention for each head\n",
    "    d_head = Q.shape[-1] // n_heads\n",
    "    attention_outputs = []\n",
    "    \n",
    "    for h in range(n_heads):\n",
    "        #Get current head's Q, K, V\n",
    "        q = Q_split[:, h, :, :]\n",
    "        k = K_split[:, h, :, :]\n",
    "        v = V_split[:, h, :, :]\n",
    "        \n",
    "        #Compute attention\n",
    "        scores = (q @ k.swapaxes(-1, -2)) / np.sqrt(d_head)\n",
    "        weights = np.exp(scores) / np.sum(np.exp(scores), axis=-1, keepdims=True)\n",
    "        head_output = weights @ v\n",
    "        attention_outputs.append(head_output)\n",
    "    \n",
    "    #Combine heads and return\n",
    "    combined = np.concatenate(attention_outputs, axis=-1)\n",
    "    return combined\n",
    "\n",
    "#Example usage\n",
    "X = np.array([[[1, 0, 0, 1], [0, 1, 1, 0]]])  #Batch of 2 tokens, d_model=4\n",
    "WQ = np.eye(4)  \n",
    "WK = np.eye(4)\n",
    "WV = np.eye(4)\n",
    "n_heads = 2\n",
    "\n",
    "output = multi_head_attention_simple(X, WQ, WK, WV, n_heads)\n",
    "print(\"Multi-head Attention Output:\\n\", output)"
   ]
  },
  {
   "cell_type": "code",
   "execution_count": null,
   "id": "3b377c40",
   "metadata": {},
   "outputs": [],
   "source": []
  }
 ],
 "metadata": {
  "kernelspec": {
   "display_name": "Python 3.5 (env)",
   "language": "python",
   "name": "py35_env"
  },
  "language_info": {
   "codemirror_mode": {
    "name": "ipython",
    "version": 3
   },
   "file_extension": ".py",
   "mimetype": "text/x-python",
   "name": "python",
   "nbconvert_exporter": "python",
   "pygments_lexer": "ipython3",
   "version": "3.10.9"
  }
 },
 "nbformat": 4,
 "nbformat_minor": 5
}
